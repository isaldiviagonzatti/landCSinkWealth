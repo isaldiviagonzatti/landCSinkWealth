{
 "cells": [
  {
   "cell_type": "markdown",
   "metadata": {
    "vscode": {
     "languageId": "plaintext"
    }
   },
   "source": [
    "# Land Carbon Sink Analysis\n",
    "\n",
    "Main notebook for the Land Carbon Sink Analysis project."
   ]
  },
  {
   "cell_type": "code",
   "execution_count": 1,
   "metadata": {},
   "outputs": [],
   "source": [
    "import xarray as xr\n",
    "import matplotlib\n",
    "import xesmf as xe\n",
    "import numpy as np\n",
    "import pandas as pd\n",
    "import polars as pl\n",
    "import os, sys"
   ]
  },
  {
   "cell_type": "code",
   "execution_count": 2,
   "metadata": {},
   "outputs": [],
   "source": [
    "# directories\n",
    "rawDir = \"../data/raw/\"\n",
    "interimDir = \"../data/interim/\"\n",
    "processedDir = \"../data/processed/\""
   ]
  },
  {
   "cell_type": "markdown",
   "metadata": {},
   "source": [
    "## Data import\n"
   ]
  },
  {
   "cell_type": "code",
   "execution_count": 3,
   "metadata": {},
   "outputs": [],
   "source": [
    "# Environmental Contribution to land use change! NOT ELUC\n",
    "# ELUC = xr.open_dataset(rawDir + \"landUseChangeDorgeist.nc\")\n",
    "\n",
    "# Natural Land Sink (0.5 arcdegrees)\n",
    "SLAND = xr.open_dataset(rawDir + \"landSinkDorgeist.nc\")\n",
    "\n",
    "# Country mask (0.1 arcdegrees)\n",
    "countryMask = xr.open_dataset(\n",
    "    rawDir + \"Country-mask_UNFCCC_layers-all-countries_grid-3600x1800.nc\"\n",
    ")\n",
    "\n",
    "country_codes = pd.read_excel(rawDir + \"Country-codes_UNFCCC_199countries.xlsx\")\n",
    "country_codes[\"Numeric\"] = country_codes[\"Numeric\"].astype(int)\n",
    "\n",
    "# Get list of country codes\n",
    "ctrs_UNFCCC = country_codes[\"Alpha-3\"]"
   ]
  },
  {
   "cell_type": "markdown",
   "metadata": {},
   "source": [
    "## Natural Land Sink Country Attribution"
   ]
  },
  {
   "cell_type": "markdown",
   "metadata": {},
   "source": [
    "### Regrid countryMask to Match natLandSink Resolution"
   ]
  },
  {
   "cell_type": "code",
   "execution_count": 4,
   "metadata": {},
   "outputs": [],
   "source": [
    "# Regrid `countryMask` to match `SLAND` coordinates\n",
    "# regridder = xe.Regridder(countryMask, SLAND, method=\"conservative\")\n",
    "# countryMask_regridded_dor = regridder(countryMask)\n",
    "# countryMask_regridded_dor.to_netcdf(interimDir + \"countryMask_regridded_dor.nc\")"
   ]
  },
  {
   "cell_type": "code",
   "execution_count": 5,
   "metadata": {},
   "outputs": [
    {
     "name": "stdout",
     "output_type": "stream",
     "text": [
      "Coordinates:\n",
      "  * lat      (lat) float32 3kB 89.88 89.62 89.38 89.12 ... -89.38 -89.62 -89.88\n",
      "  * lon      (lon) float32 6kB -179.9 -179.6 -179.4 -179.1 ... 179.4 179.6 179.9\n",
      "Coordinates:\n",
      "  * ISOcode  (ISOcode) float64 2kB 4.0 24.0 8.0 ... 716.0 9.999e+03 5.555e+03\n",
      "  * lat      (lat) float32 3kB 89.88 89.62 89.38 89.12 ... -89.38 -89.62 -89.88\n",
      "  * lon      (lon) float32 6kB -179.9 -179.6 -179.4 -179.1 ... 179.4 179.6 179.9\n"
     ]
    }
   ],
   "source": [
    "# Load datasets\n",
    "countryMask_regridded_dor = xr.open_dataset(interimDir + \"countryMask_regridded_dor.nc\")\n",
    "\n",
    "# Inspect the coordinates\n",
    "print(SLAND.coords)\n",
    "print(countryMask_regridded_dor.coords)"
   ]
  },
  {
   "cell_type": "markdown",
   "metadata": {},
   "source": [
    "## Natural Land Sink"
   ]
  },
  {
   "cell_type": "markdown",
   "metadata": {},
   "source": [
    "### Check Regridding"
   ]
  },
  {
   "cell_type": "code",
   "execution_count": 6,
   "metadata": {},
   "outputs": [],
   "source": [
    "# Get lat and lon names\n",
    "if \"latitude\" in SLAND.dims:\n",
    "    lat_name, lon_name = \"latitude\", \"longitude\"\n",
    "else:\n",
    "    lat_name, lon_name = \"lat\", \"lon\"\n",
    "\n",
    "# Check that model grid and country grid agree\n",
    "check_lat1 = np.max(\n",
    "    np.abs(SLAND[lat_name].values - countryMask_regridded_dor[lat_name].values)\n",
    ")\n",
    "check_lon1 = np.max(\n",
    "    np.abs(SLAND[lon_name].values - countryMask_regridded_dor[lon_name].values)\n",
    ")\n",
    "if check_lat1 > 0.001 or check_lon1 > 0.001:\n",
    "    sys.exit(\"Coordinates do not agree\")\n",
    "\n",
    "# Re-index if there are small deviations in lat and lon\n",
    "if (check_lat1 != 0) or (check_lon1 != 0):\n",
    "    countryMask_regridded_dor = countryMask_regridded_dor.reindex(\n",
    "        {lat_name: SLAND[lat_name], lon_name: SLAND[lon_name]},\n",
    "        method=\"nearest\",\n",
    "    )"
   ]
  },
  {
   "cell_type": "markdown",
   "metadata": {},
   "source": [
    "### Unit Conversion"
   ]
  },
  {
   "cell_type": "code",
   "execution_count": 7,
   "metadata": {},
   "outputs": [],
   "source": [
    "# help(xe.util.cell_area)\n",
    "# Compute grid areas (in km^2) for natSLAND\n",
    "\n",
    "\n",
    "grid_areas_km2 = xe.util.cell_area(SLAND, earth_radius=6371.0)  # Earth radius in km\n",
    "\n",
    "\n",
    "# Convert kgC/ha/year to GtC/year (global scale)\n",
    "\n",
    "\n",
    "# Scale factor calculation\n",
    "\n",
    "\n",
    "SLAND = SLAND.SLAND_trans * 100 * 1e-12 * grid_areas_km2\n",
    "\n",
    "\n",
    "SLAND = SLAND.fillna(0)"
   ]
  },
  {
   "cell_type": "markdown",
   "metadata": {},
   "source": [
    "### Country Attribution"
   ]
  },
  {
   "cell_type": "code",
   "execution_count": 8,
   "metadata": {},
   "outputs": [
    {
     "name": "stdout",
     "output_type": "stream",
     "text": [
      "  - processing country 1 of 199\n",
      "  - processing country 21 of 199\n",
      "  - processing country 41 of 199\n",
      "  - processing country 61 of 199\n",
      "  - processing country 81 of 199\n",
      "  - processing country 101 of 199\n",
      "  - processing country 121 of 199\n",
      "  - processing country 141 of 199\n",
      "  - processing country 161 of 199\n",
      "  - processing country 181 of 199\n"
     ]
    }
   ],
   "source": [
    "# Dictionary for storing country data\n",
    "data_ctrs_dor = dict()\n",
    "\n",
    "# Loop over all country codes\n",
    "for i, iso_alpha3 in enumerate(ctrs_UNFCCC):\n",
    "\n",
    "    if np.mod(i, 20) == 0:\n",
    "        print(f\"  - processing country {i + 1} of {len(ctrs_UNFCCC)}\")\n",
    "\n",
    "    # Get numeric ISO code for the country\n",
    "    iso_numeric = country_codes[\"Numeric\"][\n",
    "        country_codes[\"Alpha-3\"] == iso_alpha3\n",
    "    ].values[0]\n",
    "\n",
    "    # Extract country mask for the current country\n",
    "    mask = countryMask_regridded_dor.sel(ISOcode=iso_numeric)\n",
    "\n",
    "    # Weight by fraction of country-specific land area\n",
    "    weights = mask.land_fraction / mask.land_fraction_global\n",
    "\n",
    "    # Sum up the natural land sink for the selected country\n",
    "    data_sel = (SLAND * weights).sum((lat_name, lon_name))\n",
    "\n",
    "    # Store results in dictionary\n",
    "    data_ctrs_dor[iso_alpha3] = data_sel.values"
   ]
  },
  {
   "cell_type": "code",
   "execution_count": 9,
   "metadata": {},
   "outputs": [],
   "source": [
    "##### Add fluxes in ocean grid cells to closest county ####\n",
    "\n",
    "# Select only ocean grid cells that have non-zero land sink values\n",
    "data_ocean = SLAND.where(countryMask_regridded_dor.land_fraction_global == 0)\n",
    "data_ocean = data_ocean.where(data_ocean != 0)\n",
    "\n",
    "# Get 2D arrays with latitudes and longitudes and keep only country areas\n",
    "LON, LAT = np.meshgrid(countryMask_regridded_dor.lon, countryMask_regridded_dor.lat)\n",
    "\n",
    "# Apply the mask to latitude and longitude arrays\n",
    "LAT[countryMask_regridded_dor.land_fraction_global == 0] = np.nan\n",
    "LON[countryMask_regridded_dor.land_fraction_global == 0] = np.nan\n",
    "\n",
    "\n",
    "# Convert latitudes and longitudes to radians for distance calculation\n",
    "LAT_rad = LAT * np.pi / 180\n",
    "LON_rad = LON * np.pi / 180"
   ]
  },
  {
   "cell_type": "code",
   "execution_count": 10,
   "metadata": {},
   "outputs": [
    {
     "name": "stdout",
     "output_type": "stream",
     "text": [
      "ISO Code for the given lat, lon: 795.0\n",
      "ISO Code for the given lat, lon: 795.0\n",
      "ISO Code for the given lat, lon: 795.0\n",
      "ISO Code for the given lat, lon: 795.0\n",
      "ISO Code for the given lat, lon: 795.0\n",
      "ISO Code for the given lat, lon: 795.0\n",
      "ISO Code for the given lat, lon: 795.0\n",
      "ISO Code for the given lat, lon: 795.0\n",
      "ISO Code for the given lat, lon: 795.0\n",
      "ISO Code for the given lat, lon: 795.0\n",
      "ISO Code for the given lat, lon: 795.0\n",
      "ISO Code for the given lat, lon: 795.0\n",
      "ISO Code for the given lat, lon: 795.0\n"
     ]
    }
   ],
   "source": [
    "# Loop over all grid cells to assign ocean grid values to closest country cells\n",
    "for i_lat in range(0, len(data_ocean.lat)):\n",
    "    for i_lon in range(0, len(data_ocean.lon)):\n",
    "\n",
    "        # Read land sink data for the specific grid cell\n",
    "        data_sel = data_ocean.isel(lat=i_lat, lon=i_lon)\n",
    "\n",
    "        # Only process ocean grid cells with non-zero land sink values\n",
    "        if not np.isnan(data_sel):\n",
    "\n",
    "            # Get latitude and longitude of the ocean grid cell and convert to radians\n",
    "            lat_ocean = data_sel.lat.item() * np.pi / 180\n",
    "            lon_ocean = data_sel.lon.item() * np.pi / 180\n",
    "\n",
    "            # Calculate the argument for arccos\n",
    "            argument = np.sin(lat_ocean) * np.sin(LAT_rad) + np.cos(lat_ocean) * np.cos(\n",
    "                LAT_rad\n",
    "            ) * np.cos(lon_ocean - LON_rad)\n",
    "            argument = np.clip(argument, -1, 1)  # Clip to avoid invalid values\n",
    "\n",
    "            # Calculate distances\n",
    "            distance = np.arccos(argument)\n",
    "\n",
    "            # Find the closest land grid cell(s)\n",
    "            index_closest = np.argwhere(distance == np.nanmin(distance))\n",
    "\n",
    "            # Loop over closest grid cells and add values to the corresponding country\n",
    "            for ind in index_closest:\n",
    "\n",
    "                # Get latitude and longitude of the closest grid cell\n",
    "                lat_sel = LAT[ind[0], ind[1]]\n",
    "                lon_sel = LON[ind[0], ind[1]]\n",
    "\n",
    "                # Select the land_fraction at the specified lat, lon\n",
    "                land_fraction_at_point = countryMask_regridded_dor.sel(\n",
    "                    lat=lat_sel, lon=lon_sel\n",
    "                ).land_fraction\n",
    "\n",
    "                # Find the index where land_fraction is non-zero\n",
    "                non_zero_index = np.where(land_fraction_at_point.values != 0)[0]\n",
    "\n",
    "                # There should only be one non-zero value, retrieve the corresponding ISOcode\n",
    "                if len(non_zero_index) == 1:\n",
    "                    iso_code = countryMask_regridded_dor.ISOcode[\n",
    "                        non_zero_index[0]\n",
    "                    ].values\n",
    "                    print(f\"ISO Code for the given lat, lon: {iso_code}\")\n",
    "                else:\n",
    "                    print(\"No or multiple countries found for this lat, lon\")\n",
    "\n",
    "                # Retrieve country name for the ISO code\n",
    "                ctr_name = country_codes[\"Alpha-3\"][\n",
    "                    country_codes[\"Numeric\"] == iso_code\n",
    "                ].values[0]\n",
    "\n",
    "                # Add the ocean grid cell's natural land sink value to the closest country's data\n",
    "                data_ctrs_dor[ctr_name] += data_sel.values / len(index_closest)"
   ]
  },
  {
   "cell_type": "markdown",
   "metadata": {},
   "source": [
    "### Save results"
   ]
  },
  {
   "cell_type": "code",
   "execution_count": 17,
   "metadata": {},
   "outputs": [],
   "source": [
    "# Convert data_ctrs to a DataFrame with country names as the index\n",
    "data_ctrs_dor_df = pd.DataFrame(\n",
    "    list(data_ctrs_dor.items()), columns=[\"iso\", \"SLAND_dor\"]\n",
    ")\n",
    "\n",
    "# Sort the DataFrame by 'Country' column if needed\n",
    "data_ctrs_dor_df = data_ctrs_dor_df.sort_values(\n",
    "    \"SLAND_dor\", ascending=False\n",
    ").reset_index(drop=True)\n",
    "\n",
    "# Add units to the DataFrame and save to Excel and CSV\n",
    "data_ctrs_dor_df.to_excel(processedDir + \"land_sink_by_country_dor.xlsx\", index=False)\n",
    "\n",
    "data_ctrs_dor_df.to_csv(processedDir + \"land_sink_by_country_dor.csv\", index=False)"
   ]
  },
  {
   "cell_type": "markdown",
   "metadata": {},
   "source": [
    "### Check Total sum and country level sum"
   ]
  },
  {
   "cell_type": "code",
   "execution_count": 18,
   "metadata": {},
   "outputs": [
    {
     "name": "stdout",
     "output_type": "stream",
     "text": [
      "Country Sum Land Sink (Gt per yr) conservative method: -2.9931169301458542\n",
      "Total Grid Cell Sum Land Sink (Gt per yr) : -2.9931169301458533\n"
     ]
    }
   ],
   "source": [
    "total_land_sink_Gt_per_yr = data_ctrs_dor_df[\"SLAND_dor\"].sum()\n",
    "Sland_sum = (SLAND).sum(dim=[\"lat\", \"lon\"]).item()\n",
    "print(\n",
    "    \"Country Sum Land Sink (Gt per yr) conservative method:\", total_land_sink_Gt_per_yr\n",
    ")\n",
    "\n",
    "print(\"Total Grid Cell Sum Land Sink (Gt per yr) :\", Sland_sum)"
   ]
  }
 ],
 "metadata": {
  "kernelspec": {
   "display_name": "xesmf_env",
   "language": "python",
   "name": "python3"
  },
  "language_info": {
   "codemirror_mode": {
    "name": "ipython",
    "version": 3
   },
   "file_extension": ".py",
   "mimetype": "text/x-python",
   "name": "python",
   "nbconvert_exporter": "python",
   "pygments_lexer": "ipython3",
   "version": "3.12.7"
  }
 },
 "nbformat": 4,
 "nbformat_minor": 2
}
